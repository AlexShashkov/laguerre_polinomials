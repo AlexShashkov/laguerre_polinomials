{
  "nbformat": 4,
  "nbformat_minor": 0,
  "metadata": {
    "colab": {
      "provenance": [],
      "toc_visible": true,
      "include_colab_link": true
    },
    "kernelspec": {
      "name": "python3",
      "display_name": "Python 3"
    },
    "language_info": {
      "name": "python"
    }
  },
  "cells": [
    {
      "cell_type": "markdown",
      "metadata": {
        "id": "view-in-github",
        "colab_type": "text"
      },
      "source": [
        "<a href=\"https://colab.research.google.com/github/AlexShashkov/laguerre_polynomials/blob/main/SPA15.ipynb\" target=\"_parent\"><img src=\"https://colab.research.google.com/assets/colab-badge.svg\" alt=\"Open In Colab\"/></a>"
      ]
    },
    {
      "cell_type": "code",
      "source": [
        "import numpy as np\n",
        "import math as m\n",
        "from numpy import longcomplex as lc\n",
        "import numpy.polynomial.polynomial as P"
      ],
      "metadata": {
        "id": "MS8xj1QgFDT3"
      },
      "execution_count": 1,
      "outputs": []
    },
    {
      "cell_type": "code",
      "source": [
        "# глобальные переменные\n",
        "# погрешности , по сути это костыли :)\n",
        "prec = 10\n",
        "eps = np.float64(1) / np.float64(10**prec)\n",
        "eps1 = np.float64(1) / np.float64(10**(prec+1))\n",
        "eps4 = np.float64(1) / np.float64(10**(2*prec))"
      ],
      "metadata": {
        "id": "fqr6Yrj9UFS6"
      },
      "execution_count": 2,
      "outputs": []
    },
    {
      "cell_type": "code",
      "source": [
        "# глобальная\n",
        "ln10n = np.log(10)"
      ],
      "metadata": {
        "id": "7dURmt4qaudP"
      },
      "execution_count": 3,
      "outputs": []
    },
    {
      "cell_type": "markdown",
      "source": [
        "#Bernoulid"
      ],
      "metadata": {
        "id": "GeHIktxpmvp1"
      }
    },
    {
      "cell_type": "code",
      "source": [
        "# Done\n",
        "def bernoullid(tp, tca, steps, tdeg, flag_min):\n",
        "  k0 = next((i for i, x in enumerate((tca)) if x), None)+1\n",
        "  print(k0, tca[k0])\n",
        "  kden = -tca[0] / (k0*tca[k0]);\n",
        "  kia = np.array([k0 for _ in range(steps+1)])\n",
        "  tqa = np.array([tdeg*kden for _ in range(steps+1)])\n",
        "  asa = np.array([0.0 + 0.0j for _ in range(tdeg+1)])\n",
        "  qsa = np.array([0.0 + 0.0j for _ in range(tdeg+1)])\n",
        "  print('Test', asa, tdeg)\n",
        "  for n in range(steps+1):\n",
        "    kn1 = kia[n-1]\n",
        "    if kn1 == n:\n",
        "      k = n\n",
        "      be = max(0,n-tdeg)\n",
        "      while True:\n",
        "        k+=1\n",
        "        se = min(k,tdeg)\n",
        "        for t in range(k-n+1, se):\n",
        "          if tqa[k-t] != 0.0:\n",
        "            asa[t] = tca[t]\n",
        "          else:\n",
        "            asa[t] = 0.0\n",
        "          for s in range(k-t-be, n-1-be):\n",
        "            if s+be == 0.0:\n",
        "              qsa[0] = k*kden\n",
        "            else:\n",
        "              if tqa[s+be] != 0.0:\n",
        "                qsa[s] = tqa[s+be]\n",
        "              else:\n",
        "                qsa[s] = 1.0\n",
        "        if se <= k-n:\n",
        "          pn = 0.0\n",
        "        else:\n",
        "          pn = asa[se]*qsa[k-se-be]\n",
        "        for j in range(se, k-n+2, -1):\n",
        "          pn = (pn + asa[j-1]) * qsa[k-j-be+1]\n",
        "        pn = pn + tca[k-n]\n",
        "        if pn != 0.0 or k == tdeg:\n",
        "          break\n",
        "      kia[n] = k\n",
        "      if pn == 0.0:\n",
        "        return [], tqa, kia\n",
        "      tqa[n] = -tca[0]/pn\n",
        "    else:\n",
        "      kia[n] = kn1\n",
        "      tqa[n] = 0.0\n",
        "  terr1 = err(tp, tqa[steps])[0]\n",
        "  print('done')\n",
        "  if terr1 < np.inf:\n",
        "    if terr1 < eps:\n",
        "      return [tqa[steps], terr1], tqa, kia\n",
        "    else:\n",
        "      if flag_min:\n",
        "        '''\n",
        "        if terr1 < lam:\n",
        "          lam = terr1\n",
        "          ats = tshift\n",
        "          ass = sshift\n",
        "        '''\n",
        "        tph = tp\n",
        "        stem = steps\n",
        "        sqa = tqa\n",
        "        kma = kia\n",
        "      return [], tqa, kia\n",
        "\n",
        "\n"
      ],
      "metadata": {
        "id": "NxBiQVVC-qu8"
      },
      "execution_count": 4,
      "outputs": []
    },
    {
      "cell_type": "markdown",
      "source": [
        "#Deflate"
      ],
      "metadata": {
        "id": "RMVZUmRvm0Il"
      }
    },
    {
      "cell_type": "code",
      "source": [
        "#TO DO\n",
        "def deflate(rootlist, tp, u, bz1, tdeg, flag_suc, flag_fin):\n",
        "  root = u+bz1\n",
        "  rootlist, flag_fin, flag_lag = finroot(tp, rootlist, root, flag_suc, flag_fin)\n",
        "  if flag_suc:\n",
        "    tp1u = np.where(z==u, tp, z) #  replaces all instances of z in tp with u.\n",
        "    tp1 = np.divide(tp1, z - u)\n",
        "    coeff = np.polyfit(range(len(tp1)), tp1, deg=len(tp1)-1)\n",
        "    tcoeff = coeff[0]  # The coefficient of the highest degree term !!!!!!!!!!!!!!!!!!!!!\n",
        "    tp1 = -tp1 / tcoeff\n",
        "    tp1.sort()\n",
        "    tdeg = tdeg - 1\n",
        "    if isinstance(root, np.complex) and tdeg > 2:\n",
        "      u1 = np.conj(u + bz1) - bz1\n",
        "      tcas = np.zeros(stepss + 2)\n",
        "      tps = np.zeros((stepss + 2, len(tp1)))\n",
        "      tps[0] = tp1\n",
        "      for j in range(1, stepss + 2):\n",
        "          tps[j] = np.gradient(tps[j - 1])\n",
        "      for i in range(corsteps):\n",
        "          for j in range(stepss + 2):\n",
        "              tcas[j] = np.real(np.where(z == u1, tps[j], z)) / np.math.factorial(j)\n",
        "          if np.real(tcas[0])**2 + np.imag(tcas[0])**2 < eps4:\n",
        "              if np.real(tcas[1])**2 + np.imag(tcas[1])**2 > eps4:\n",
        "                  u2 = u1 - tcas[0] / tcas[1]\n",
        "                  terr = err(tp1, u2)[0]\n",
        "                  if terr < inf:\n",
        "                      if terr < eps:\n",
        "                          finroot(u2 + bz1)\n",
        "                          tp1 = np.divide(tp1, z - u2)\n",
        "                          coeff = np.polyfit(range(len(tp1)), tp1, deg=len(tp1)-1)\n",
        "                          tcoeff = coeff[0]  # The coefficient of the highest degree term !!!!!!!!!!!!\n",
        "                          tp1 = -tp1 / tcoeff\n",
        "                          tdeg = tdeg - 1\n",
        "                          break"
      ],
      "metadata": {
        "id": "T8K7CXn66ZjO"
      },
      "execution_count": 5,
      "outputs": []
    },
    {
      "cell_type": "markdown",
      "source": [
        "#Shift"
      ],
      "metadata": {
        "id": "1d6H2P_Cm2D-"
      }
    },
    {
      "cell_type": "code",
      "source": [
        "#Done\n",
        "def shift(u, tp1):\n",
        "    t1 = tp1\n",
        "    tp = []\n",
        "    tp.append(np.polyval(tp1, u))\n",
        "    _tp = np.polyder(t1)\n",
        "    den = 1.0\n",
        "    print('tp1', tp1)\n",
        "    print('_tp', _tp)\n",
        "    print('u', u)\n",
        "    while len(_tp) > 0:\n",
        "      tp.append(np.polyval(_tp, u)/den)\n",
        "      den = den*(den+1.0)\n",
        "      _tp = np.polyder(_tp)\n",
        "      print('_tp', _tp)\n",
        "      print('el', tp[-1])\n",
        "      print('den', den)\n",
        "    tp = list(reversed(tp))\n",
        "    if tp[0] != 0:\n",
        "      for el in tp:\n",
        "        el /= tp[0]\n",
        "    return tp\n",
        "\n"
      ],
      "metadata": {
        "id": "JCJwbeChPbXJ"
      },
      "execution_count": 6,
      "outputs": []
    },
    {
      "cell_type": "markdown",
      "source": [
        "#Doublecos"
      ],
      "metadata": {
        "id": "qhBxQnW10wo7"
      }
    },
    {
      "cell_type": "code",
      "source": [
        "#Done\n",
        "def doublecos(cosa, noco):\n",
        "  cosah = cosa\n",
        "  d1 = noco // 4\n",
        "  cosa = np.array([2.0 for _ in range(2*noco)])\n",
        "  cosa[0] = np.sqrt(cosah[0] + 2)  # evalf в Maple это float в Python\n",
        "  cosa[noco - 1] = -cosa[0]\n",
        "  cosa[noco + 1] = -cosa[0]\n",
        "  cosa[2 * noco - 1] = cosa[0]\n",
        "  for i in range(noco-1):\n",
        "    cosa[2*i] = cosah[i]\n",
        "  for i in range(d1-1):\n",
        "    j = 2*i+1\n",
        "    cosa[j] = cosa[0]*cosa[j-1]-cosa[j-2]\n",
        "    cosa[noco-j] = -cosa[j]\n",
        "    cosa[noco+j] = -cosa[j]\n",
        "    cosa[2*noco-j] = cosa[j]\n",
        "  noco = 2*noco\n",
        "  return cosa, noco\n",
        "\n"
      ],
      "metadata": {
        "id": "wEK9SbTW0yJm"
      },
      "execution_count": 7,
      "outputs": []
    },
    {
      "cell_type": "markdown",
      "source": [
        "#Minima"
      ],
      "metadata": {
        "id": "3ixq8KP0v1Yi"
      }
    },
    {
      "cell_type": "code",
      "source": [
        "#TO DO\n",
        "def minima(cosa, ads, noco, rad, tdeg, tca):\n",
        "  poa = np.array([[1.0, rad] for _ in range(tdeg + 1)])\n",
        "  pka = [i for i in range(tdeg+1)]\n",
        "  qka = [i for i in range(tdeg+1)]\n",
        "  for i in range(1, tdeg+1):\n",
        "    print(poa[i], rad)\n",
        "    poa[i] = rad*poa[i-1]\n",
        "  poa2 = poa[1]\n",
        "  for k in range(tdeg+1):\n",
        "    ph = 0\n",
        "    for j in range(tdeg-k, 1, -1):\n",
        "      ph = ph*poa2 + tca[j+k].conjugate()*tca[j]\n",
        "    ph = poa[k]*(ph*poa2 + tca[k].conjugate()*tca[0])\n",
        "    pka[k] = k*ph.real\n",
        "    qka = k*ph.imag\n",
        "  subex = max(5, np.ceil(np.log2(10.0 * rad * np.sqrt(tdeg)))) + ads\n",
        "  subdiv = 3*np.power(2, subex)\n",
        "  d3 = 3 * (subdiv // 4)  # iquo в Maple это целочисленное деление в Python\n",
        "  noex = m.floor(np.log2(noco / 3) + 0.5) #Функция floor также из модуля math используется для округления числа вниз до ближайшего целого\n",
        "  coh = np.zeros(subdiv)\n",
        "  if subex >= noex:\n",
        "    for _ in range(subex-noex):\n",
        "      cosa, noco = doublecos(cosa, noco)\n",
        "    coh =cosa\n",
        "  else:\n",
        "    fa = noco/subdiv\n",
        "    for kk in range(subdiv-1):\n",
        "      coh[kk] = cosa[fa*kk]\n",
        "  indlist = []\n",
        "  indlist2 = []\n",
        "  si1 = 2.0 * sum(qka)\n",
        "  if si1 > 1e-8:\n",
        "      si1 = 1e-8\n",
        "  elif si1 < -1e-8:\n",
        "      si1 = -1e-8\n",
        "  sil = [[0, si1]]\n",
        "  si0 = si1\n",
        "  for ij in range(subdiv):\n",
        "    si2 = si1\n",
        "    si1 = sum(qka[jj]*coh[jj*ij % subdiv] - pka[jj]*coh[(d3+jj*ij) % subdiv] for jj in range(tdeg+1))\n",
        "    if si1 > 1e-8:\n",
        "      si1 = 1e-8\n",
        "    elif si1 < -1e-8:\n",
        "      si1 = -1e-8\n",
        "    sil.append([ij, si1])\n",
        "    if (si2 <= 0) and (si1 > 0):\n",
        "      indlist.append(ij-1)\n",
        "      indlist2.extend([ij-1, ij])\n",
        "  if (si1 <=0) and si0 > 0:\n",
        "    indlist.append(subdiv-1)\n",
        "    indlist2.extend([subdiv-1, 0])\n",
        "  len = len(indlist)\n",
        "  len2 = len(indlist2)\n",
        "  if flag_once:\n",
        "      flag_once = False"
      ],
      "metadata": {
        "id": "pwxjn7_CsRiN"
      },
      "execution_count": 8,
      "outputs": []
    },
    {
      "cell_type": "markdown",
      "source": [
        "#Minrad"
      ],
      "metadata": {
        "id": "OTGamGXmm4Uy"
      }
    },
    {
      "cell_type": "code",
      "source": [
        "#Ошибка в коде\n",
        "def minrad(tp, tqa, tdeg, steps, kia, flag_once1):\n",
        "  if flag_once1:\n",
        "    flag_once1 = False\n",
        "    print('tp', tp)\n",
        "    rl = np.roots(np.array(tp).astype('complex128'))\n",
        "    print('rl', rl)\n",
        "    rmin = np.inf\n",
        "    '''\n",
        "    for jl in range(len(rl)):\n",
        "        if abs(rl[jl].real) < rmin:\n",
        "            rmin = abs(rl[jl])\n",
        "    '''\n",
        "    print('tqa', tqa)\n",
        "    rmin = np.round(rl[-1].conjugate())\n",
        "    print('rmin', rmin) #найти минимальное\n",
        "    rm3 = np.power(5.0, 1.0/16.0)*rmin\n",
        "    mili = []\n",
        "    mico = []\n",
        "    mic3 = []\n",
        "    tr = tqa[0]\n",
        "    tq = tr.real**2 + tr.imag**2\n",
        "    print('ch', kia)\n",
        "    ch = kia[0]\n",
        "    km = ch\n",
        "    tm = tq\n",
        "    while ch <= steps:\n",
        "      tr = tqa[ch]\n",
        "      tq *= (tr.real**2 + tr.imag**2)\n",
        "      ch = kia[ch]\n",
        "      km = ch\n",
        "      tm = tq\n",
        "      mili.append([km, np.power(tm, 1.0/(2.0*km))])\n",
        "      mico.append([km, rmin])\n",
        "      mic3.append([km, rm3])\n",
        "      perp3 = [[16*tdeg, rmin], [16*tdeg, rm3]]\n",
        "  else:\n",
        "    tr = tqa[0]\n",
        "    tq = tr.real**2 + tr.imag**2\n",
        "    ch = kia[0]\n",
        "    km = ch\n",
        "    tm = tq\n",
        "    while ch <= steps:\n",
        "      tr = tqa[ch]\n",
        "      tq *= (tr.real**2 + tr.imag**2)\n",
        "      ch = kia[ch]\n",
        "      if tq**km < tm**ch:\n",
        "        km = ch\n",
        "        tm = tq\n",
        "  print('tm', tm, km)\n",
        "  rm = np.power(tm, 1.0/(2.0*km))\n",
        "  return rmin, flag_once1"
      ],
      "metadata": {
        "id": "SuSbps9bV_31"
      },
      "execution_count": 9,
      "outputs": []
    },
    {
      "cell_type": "markdown",
      "source": [
        "#Laguerre"
      ],
      "metadata": {
        "id": "KuTaUcTwm6kU"
      }
    },
    {
      "cell_type": "code",
      "source": [
        "#Done\n",
        "def laguerre(q, x):\n",
        "  dq = np.polyder(q)\n",
        "  v0 = np.polyval(q, x)\n",
        "  v1 = np.polyval(dq, x)\n",
        "  print('q', q)\n",
        "  print('dq', dq)\n",
        "  if v1 != 0.0:\n",
        "    vh = v0 / v1\n",
        "    if (abs(vh) < eps1):\n",
        "      return vh\n",
        "  if v1 == 0.0:\n",
        "    return np.inf\n",
        "  else:\n",
        "    if v0 == 0.0:\n",
        "      return 0.0\n",
        "    else:\n",
        "      return v0 / v1\n"
      ],
      "metadata": {
        "id": "LxLLDA2AlUi0"
      },
      "execution_count": 10,
      "outputs": []
    },
    {
      "cell_type": "markdown",
      "source": [
        "#Err"
      ],
      "metadata": {
        "id": "u-siOuyCm8wp"
      }
    },
    {
      "cell_type": "code",
      "source": [
        "#Done\n",
        "def err(q, x):\n",
        "  la = laguerre(q, x)\n",
        "  flag_lag = True\n",
        "  ala = (len(q)-1)*abs(la)\n",
        "  if ala < np.inf:\n",
        "    return [ala, flag_lag]\n",
        "  else:\n",
        "    return [np.inf, flag_lag]\n"
      ],
      "metadata": {
        "id": "TmZeCBzaQ6jj"
      },
      "execution_count": 11,
      "outputs": []
    },
    {
      "cell_type": "markdown",
      "source": [
        "#Finroot"
      ],
      "metadata": {
        "id": "0Qeetliim-aZ"
      }
    },
    {
      "cell_type": "code",
      "source": [
        "#Done\n",
        "# принимает на вход p - массив коэф, rootlist - корни, ro - число, flag_suc - какой-то flag (хз что он именно проверяет)\n",
        "def finroot(p, rootlist, ro, flag_suc, flag_fin):\n",
        "  #nera,lade,pof,bof - локальные переменные\n",
        "  nera = err(p, ro);\n",
        "  if nera[0] < np.inf:\n",
        "    bof = nera[0] < eps1 #проверяем, меньше ли первый элемент массива nera чем eps1, и присваеваем переменной bof значение true или false.\n",
        "  else:\n",
        "    bof = False\n",
        "  if flag_suc:\n",
        "    #lade = np.round(ladi, 2)\n",
        "    pof = ro\n",
        "    rootlist.append(pof)\n",
        "    #miro += 1\n",
        "    if not bof:\n",
        "      flag_fin = False\n",
        "  return rootlist, flag_fin, nera[1]"
      ],
      "metadata": {
        "id": "r65Pu2tkOvP6"
      },
      "execution_count": 12,
      "outputs": []
    },
    {
      "cell_type": "markdown",
      "source": [
        "#degtwo"
      ],
      "metadata": {
        "id": "6bKCMfTdnATC"
      }
    },
    {
      "cell_type": "code",
      "source": [
        "#Done\n",
        "def degtwo(bz, tp, tdeg, rootlist, flag_fin):\n",
        "  flag_suc = True;\n",
        "  flag_f = flag_fin\n",
        "  a = tp[0]\n",
        "  b = -0.5*tp[1]\n",
        "  c = tp[2]\n",
        "  d = np.sqrt(b**2 - c)\n",
        "  a = b + d\n",
        "  b = b - d\n",
        "  if abs(a) > abs(b):\n",
        "    rootlist, flag_f, flag_lag = finroot(tp, rootlist, bz + a, flag_suc, flag_fin)\n",
        "    rootlist, flag_f, flag_lag = finroot(tp, rootlist, bz + c/a, flag_suc, flag_fin)\n",
        "  if abs(a) == abs(b):\n",
        "    rootlist, flag_f, flag_lag = finroot(tp, rootlist, bz + a, flag_suc, flag_fin)\n",
        "    rootlist, flag_f, flag_lag = finroot(tp, rootlist, bz + b, flag_suc, flag_fin)\n",
        "  if abs(a)<abs(b):\n",
        "    rootlist, flag_f, flag_lag = finroot(tp, rootlist, bz + b, flag_suc, flag_fin)\n",
        "    rootlist, flag_f, flag_lag = finroot(tp, rootlist, bz + c/b, flag_suc, flag_fin)\n",
        "  tdeg -= 2\n",
        "  return rootlist, tdeg, flag_f, flag_lag"
      ],
      "metadata": {
        "id": "uKMGtUOJblv4"
      },
      "execution_count": 13,
      "outputs": []
    },
    {
      "cell_type": "markdown",
      "source": [
        "#Trial"
      ],
      "metadata": {
        "id": "NVhFhg96nCoK"
      }
    },
    {
      "cell_type": "code",
      "source": [
        "#Done\n",
        "def trial(rootlist, cl, tp, tp1, tdeg, bz, bz1, stepfactor, stepmin, flag_suc,flag_fin, flag_inc, flag_min, flag_once1):\n",
        "  print('trial_tp', tp)\n",
        "  if (tp[-1].real**2 + tp[-1].imag**2) < eps4:\n",
        "    if (tp[-2].real**2 + tp[-2].imag**2) > eps4:\n",
        "      qco = -tp[-1]/tp[-2]\n",
        "      ladi = err(tp, qco)[0]\n",
        "      if ladi < np.inf and ladi < eps:\n",
        "        if cl == 2:\n",
        "          terr = err(tp1, qco + bz - bz1)[0]\n",
        "          if terr < np.inf and terr >=eps:\n",
        "            flag_inc = True\n",
        "            print('trial_return1')\n",
        "            return bz, bz1, flag_suc, flag_inc, flag_once1, None, None\n",
        "        flag_suc = True\n",
        "        print('TO DO deflate')\n",
        "        deflate(rootlist, tp, qco + bz - bz1, bz1, tdeg, flag_suc, flag_fin)\n",
        "        print('trial_return2')\n",
        "        return bz, bz1, flag_suc, flag_inc, flag_once1, None, None\n",
        "  print('tp', tp)\n",
        "  # Assuming tp is a numpy array\n",
        "  diam = 1.0 + (np.linalg.norm([el - tp[0] for el in tp], np.inf))/abs(tp[0])\n",
        "  if cl == 1:\n",
        "    steps = np.ceil(stepfactor *(np.log(diam*tdeg) + ln10n*(prec+1)))\n",
        "  elif cl == 2 and flag_min:\n",
        "    steps = np.ceil(stepmin*(np.log(diam*tdeg) + ln10n*(prec+1)))\n",
        "  else:\n",
        "    steps = 16 * tdeg\n",
        "  tca = list(reversed(tp))\n",
        "  steps = int(steps)\n",
        "  res2, tqa, kia = bernoullid(tp, tca, steps, tdeg, flag_min)\n",
        "  print('kia', kia, kia[0])\n",
        "  if flag_inc:\n",
        "    print('trial_return3')\n",
        "    return bz, bz1, flag_suc, flag_inc, flag_once1, tca, None\n",
        "  if len(res2) == 2:\n",
        "    ladi = res2[1]\n",
        "    flag_suc = True\n",
        "    print('TO DO deflate')\n",
        "    deflate(res2[0]+bz-bz1)\n",
        "  elif len(res2) == 0:\n",
        "    if cl == 1 or cl == 3:\n",
        "      rad, flag_once1 = minrad(tp, tqa, tdeg, steps, kia, flag_once1)\n",
        "    elif cl == 2 and flag_min:\n",
        "      tqm = tqa\n",
        "      kim = kia\n",
        "  print('trial_return4')\n",
        "  print('rad?', rad)\n",
        "  return bz, bz1, flag_suc, flag_inc, flag_once1, tca, rad\n"
      ],
      "metadata": {
        "id": "luJJeljspA31"
      },
      "execution_count": 14,
      "outputs": []
    },
    {
      "cell_type": "markdown",
      "source": [
        "#Run"
      ],
      "metadata": {
        "id": "MHC26UXMnFI2"
      }
    },
    {
      "cell_type": "code",
      "source": [
        "def run(cosa, ads, noco, bz, bzre, tp, tp1, tdeg, rootlist,stepfactor, stepmin, flag_fin, flag_once1):\n",
        "  flag_lag = True\n",
        "  if tdeg < 3:\n",
        "    return degtwo(bz, tp, tdeg, rootlist, flag_fin)\n",
        "  else:\n",
        "    flag_suc= False\n",
        "    flag_inc = True\n",
        "    flag_min = False\n",
        "    bz = bzre\n",
        "    while flag_inc:\n",
        "      flag_inc = False\n",
        "      tp1 = tp\n",
        "      bz1 = bz\n",
        "      bz, bz1, flag_suc, flag_inc, flag_once1, tca, rad = trial(rootlist, 1, tp, tp1, tdeg, bz, bz1, stepfactor,stepmin, flag_suc, flag_fin, flag_inc, flag_min, flag_once1)\n",
        "      tp = tp1\n",
        "      bz = bz1\n",
        "      if flag_suc:\n",
        "        return rootlist, tdeg, flag_fin, flag_lag\n",
        "    if flag_suc:\n",
        "      return  rootlist, tdeg, flag_fin, flag_lag\n",
        "    flag_inc = True\n",
        "    while flag_inc:\n",
        "      flag_inc = False\n",
        "      bz2 = bz\n",
        "      tp2 = tp\n",
        "      tca1 = tca\n",
        "      rad1 = rad\n",
        "      print('TO DO minima')\n",
        "      print(rad)\n",
        "      res1 = minima(cosa, ads, noco, rad, tdeg, tca)"
      ],
      "metadata": {
        "id": "GxRH9i4laXzS"
      },
      "execution_count": 15,
      "outputs": []
    },
    {
      "cell_type": "markdown",
      "source": [
        "#Spa"
      ],
      "metadata": {
        "id": "ZZRax0OnnGvv"
      }
    },
    {
      "cell_type": "code",
      "source": [
        "def spa(poly, rootlist):\n",
        "  tdeg = len(poly)-1\n",
        "  if tdeg == 0:\n",
        "    print(\"The degree of the polynomial must be greater than 0\")\n",
        "    return -1\n",
        "  if tdeg == 1:\n",
        "    return [-poly[1]/poly[0]]\n",
        "  tlim = 0.3\n",
        "  ads = 0\n",
        "  bz = 0.0\n",
        "  diam1 = 1.0 + max(poly[:-1])\n",
        "  # глобальные флаги, я посмотрю можно ли от каких-нибудь избавиться\n",
        "  flag_fin = True\n",
        "  flag_once = True\n",
        "  flag_once1 = True\n",
        "  flag_min = False\n",
        "  flag_lag = False\n",
        "  flag_mult = False\n",
        "  qp = []\n",
        "  #если степень > 2 и все коэф нулевые, кроме первого и последнего (довольно странный частный случай)\n",
        "  if tdeg > 2 and sum(poly[1:-1] == 0.0):\n",
        "    flag_suc = True\n",
        "    # z0 - последний коэф / первый коэф в степени 1 / (степень многочлена)\n",
        "    z0 = -poly[-1]/ poly[0]\n",
        "    if z0 > 0.0:\n",
        "      z0 = np.power(z0 + 0j, 1/tdeg)\n",
        "    else:\n",
        "      if tdeg % 2 != 0:\n",
        "        z0 = -np.power(abs(z0) + 0j, 1/tdeg)\n",
        "      else:\n",
        "        z0 = lc(0+1j)*np.power(abs(z0)+0j, 1/tdeg)\n",
        "    dex = np.cos((2.0/tdeg)*np.pi) + np.sin((2.0/tdeg)*np.pi)*1j\n",
        "    rootlist, flag_fin, flag_lag = finroot(poly, rootlist, z0, flag_suc, flag_fin)\n",
        "    for i in range(1, tdeg):\n",
        "        z0 = dex * z0\n",
        "        rootlist, flag_fin, flag_lag = finroot(poly, rootlist, z0, flag_suc, flag_fin)\n",
        "  else:\n",
        "    dp = np.polyder(poly)\n",
        "    print('reversed', list(reversed(poly)), list(reversed(dp)))\n",
        "    tp, gp = P.polydiv(list(reversed(poly)), list(reversed(dp)))\n",
        "    print(tp, gp)\n",
        "    if len(gp) == 1 and gp[0] == 0.0:\n",
        "      flag_mult = True\n",
        "      tp1 = tp;\n",
        "      qp = tp;\n",
        "      tdeg = len(qp)-1\n",
        "      if tdeg == 1:\n",
        "        ro = -qp[-1] / qp[0]\n",
        "        for _ in range(len(poly)-1):\n",
        "          rootlist.append(ro)\n",
        "        return rootlist\n",
        "    else:\n",
        "      tp = poly\n",
        "      tp1 = poly\n",
        "    bzre = lc(0.0 + 0.5j)\n",
        "    odeg = tdeg\n",
        "    tdeg = len(tp)-1\n",
        "    mincoun = 0.0\n",
        "    bz += bzre;\n",
        "    tp = shift(bzre, tp1);\n",
        "    stepfactor = 3\n",
        "    stepmin = 2\n",
        "    stepss = 2\n",
        "    corsteps = 3\n",
        "    mico = 0\n",
        "    noco = 12\n",
        "    sqr3 = np.sqrt(3.0)\n",
        "    coht = np.array([2., sqr3, 1., 0., -1., -sqr3, -2., -sqr3, -1., 0., 1., sqr3])\n",
        "    cosa = coht\n",
        "    while tdeg > 0:\n",
        "      print('TO DO run')\n",
        "      print('run tp', tp)\n",
        "      rootlist, tdeg, flag_fin, flag_lag =  run(cosa, ads, noco, bz, bzre, tp, tp1, tdeg, rootlist, stepfactor, stepmin, flag_fin ,flag_once1)\n",
        "      print('rootlist', rootlist)\n",
        "      print('tdeg', tdeg)\n",
        "  odeg = len(rootlist)\n",
        "  if not flag_fin:\n",
        "    tdeg = len(rootlist)\n",
        "  rl1 = []\n",
        "  rl2 = []\n",
        "  rl3 = []\n",
        "  flag_lag = False\n",
        "  degp = len(poly)-1\n",
        "  for i in range(odeg):\n",
        "    a = rootlist[i]\n",
        "    if flag_mult:\n",
        "      b = laguerre(qp, a)\n",
        "      c = degp * abs(b)\n",
        "    else:\n",
        "      b = laguerre(poly, a)\n",
        "      c = odeg * abs(b)\n",
        "    b = a - b\n",
        "    f = 0.0\n",
        "    while c > eps1:\n",
        "      if flag_mult:\n",
        "        d = laguerre(qp, b)\n",
        "        e = degp * abs(d)\n",
        "      else:\n",
        "        d = laguerre(poly, b)\n",
        "        e = odeg * abs(d)\n",
        "      d = b - d\n",
        "      if e < c:\n",
        "        b = d\n",
        "        c = e\n",
        "        f += 1.0\n",
        "      else:\n",
        "        break\n",
        "    rl1.append(b)\n",
        "    rl2.append(c)\n",
        "    rl3.append(f)\n",
        "  print('rl1', rl1, 'rl2', rl2, 'rl3', rl3  )\n",
        "  dist = np.zeros((odeg, odeg))\n",
        "  mindist = diam1\n",
        "  for i in range(odeg-1):\n",
        "    for j in range(i+1, odeg):\n",
        "      distt = abs(rl1[i] - rl1[j])\n",
        "      if distt < mindist:\n",
        "        mindist = distt\n",
        "      dist[i, j] = max(0.0, distt-rl2[i]-rl2[j])\n",
        "      dist[j, i] = dist[i, j]\n",
        "  for i in range(odeg):\n",
        "    dist[i][i] = min([dist[i][jj] for jj in range(i)] + [dist[i][jj] for jj in range(i+1, odeg)]) # ????\n",
        "  for ii in range(odeg):\n",
        "    rootlist[ii] = [rl1[ii], rl2[ii], dist[ii,ii], rl3[ii]]\n",
        "  if flag_mult:\n",
        "    roli = []\n",
        "    print('TO DO')\n",
        "  return rootlist"
      ],
      "metadata": {
        "id": "RzCI4_vLDMcI"
      },
      "execution_count": 16,
      "outputs": []
    },
    {
      "cell_type": "markdown",
      "source": [
        "#TEST"
      ],
      "metadata": {
        "id": "zuPo5Jjw6FaP"
      }
    },
    {
      "cell_type": "code",
      "source": [
        "pol = np.array([1.0, -5.0, 8.0, -4.0])\n",
        "roots = []\n",
        "res = spa(pol, roots)\n",
        "print('res', res)"
      ],
      "metadata": {
        "colab": {
          "base_uri": "https://localhost:8080/",
          "height": 1000
        },
        "id": "0o-zaLnyIDO5",
        "outputId": "4d9e9e11-9f90-4352-e224-4ae34173006c"
      },
      "execution_count": 17,
      "outputs": [
        {
          "output_type": "stream",
          "name": "stdout",
          "text": [
            "reversed [-4.0, 8.0, -5.0, 1.0] [8.0, -10.0, 3.0]\n",
            "[-0.55555556  0.33333333] [ 0.44444444 -0.22222222]\n",
            "tp1 [ 1. -5.  8. -4.]\n",
            "_tp [  3. -10.   8.]\n",
            "u 0.5j\n",
            "_tp [  6. -10.]\n",
            "el (7.25-5j)\n",
            "den 2.0\n",
            "_tp [6.]\n",
            "el (-5+1.5j)\n",
            "den 6.0\n",
            "_tp []\n",
            "el (1+0j)\n",
            "den 42.0\n",
            "TO DO run\n",
            "run tp [(1+0j), (-5+1.5j), (7.25-5j), (-2.75+3.875j)]\n",
            "trial_tp [(1+0j), (-5+1.5j), (7.25-5j), (-2.75+3.875j)]\n",
            "tp [(1+0j), (-5+1.5j), (7.25-5j), (-2.75+3.875j)]\n",
            "1 (7.25-5j)\n",
            "Test [0.+0.j 0.+0.j 0.+0.j 0.+0.j] 3\n",
            "q [(1+0j), (-5+1.5j), (7.25-5j), (-2.75+3.875j)]\n",
            "dq [  3.  +0.j -10.  +3.j   7.25-5.j]\n",
            "done\n",
            "kia [ 1  2  3  4  5  6  7  8  9 10 11 12 13 14 15 16 17 18 19 20 21 22 23 24\n",
            " 25 26 27 28 29 30 31 32 33 34 35 36 37 38 39 40 41 42 43 44 45 46 47 48\n",
            " 49 50 51 52 53 54 55 56 57 58 59 60 61 62 63 64 65 66 67 68 69 70 71 72\n",
            " 73 74 75 76 77 78 79 80 81 82 83 84 85 86 87] 1\n",
            "tp [(1+0j), (-5+1.5j), (7.25-5j), (-2.75+3.875j)]\n",
            "rl [2.00000002-0.49999994j 1.99999998-0.50000006j 1.        -0.5j       ]\n",
            "tqa [0.        +0.j         0.50684932-0.18493151j 0.50684932-0.18493151j\n",
            " 0.50684932-0.18493151j 0.50684932-0.18493151j 0.50684932-0.18493151j\n",
            " 0.50684932-0.18493151j 0.50684932-0.18493151j 0.50684932-0.18493151j\n",
            " 0.50684932-0.18493151j 0.50684932-0.18493151j 0.50684932-0.18493151j\n",
            " 0.50684932-0.18493151j 0.50684932-0.18493151j 0.50684932-0.18493151j\n",
            " 0.50684932-0.18493151j 0.50684932-0.18493151j 0.50684932-0.18493151j\n",
            " 0.50684932-0.18493151j 0.50684932-0.18493151j 0.50684932-0.18493151j\n",
            " 0.50684932-0.18493151j 0.50684932-0.18493151j 0.50684932-0.18493151j\n",
            " 0.50684932-0.18493151j 0.50684932-0.18493151j 0.50684932-0.18493151j\n",
            " 0.50684932-0.18493151j 0.50684932-0.18493151j 0.50684932-0.18493151j\n",
            " 0.50684932-0.18493151j 0.50684932-0.18493151j 0.50684932-0.18493151j\n",
            " 0.50684932-0.18493151j 0.50684932-0.18493151j 0.50684932-0.18493151j\n",
            " 0.50684932-0.18493151j 0.50684932-0.18493151j 0.50684932-0.18493151j\n",
            " 0.50684932-0.18493151j 0.50684932-0.18493151j 0.50684932-0.18493151j\n",
            " 0.50684932-0.18493151j 0.50684932-0.18493151j 0.50684932-0.18493151j\n",
            " 0.50684932-0.18493151j 0.50684932-0.18493151j 0.50684932-0.18493151j\n",
            " 0.50684932-0.18493151j 0.50684932-0.18493151j 0.50684932-0.18493151j\n",
            " 0.50684932-0.18493151j 0.50684932-0.18493151j 0.50684932-0.18493151j\n",
            " 0.50684932-0.18493151j 0.50684932-0.18493151j 0.50684932-0.18493151j\n",
            " 0.50684932-0.18493151j 0.50684932-0.18493151j 0.50684932-0.18493151j\n",
            " 0.50684932-0.18493151j 0.50684932-0.18493151j 0.50684932-0.18493151j\n",
            " 0.50684932-0.18493151j 0.50684932-0.18493151j 0.50684932-0.18493151j\n",
            " 0.50684932-0.18493151j 0.50684932-0.18493151j 0.50684932-0.18493151j\n",
            " 0.50684932-0.18493151j 0.50684932-0.18493151j 0.50684932-0.18493151j\n",
            " 0.50684932-0.18493151j 0.50684932-0.18493151j 0.50684932-0.18493151j\n",
            " 0.50684932-0.18493151j 0.50684932-0.18493151j 0.50684932-0.18493151j\n",
            " 0.50684932-0.18493151j 0.50684932-0.18493151j 0.50684932-0.18493151j\n",
            " 0.50684932-0.18493151j 0.50684932-0.18493151j 0.50684932-0.18493151j\n",
            " 0.50684932-0.18493151j 0.50684932-0.18493151j 0.50684932-0.18493151j]\n",
            "rmin (1+0j)\n",
            "ch [ 1  2  3  4  5  6  7  8  9 10 11 12 13 14 15 16 17 18 19 20 21 22 23 24\n",
            " 25 26 27 28 29 30 31 32 33 34 35 36 37 38 39 40 41 42 43 44 45 46 47 48\n",
            " 49 50 51 52 53 54 55 56 57 58 59 60 61 62 63 64 65 66 67 68 69 70 71 72\n",
            " 73 74 75 76 77 78 79 80 81 82 83 84 85 86 87]\n",
            "tm 0.0 87\n",
            "trial_return4\n",
            "rad? (1+0j)\n",
            "TO DO minima\n",
            "(1+0j)\n",
            "[1.+0.j 1.+0.j] (1+0j)\n",
            "[1.+0.j 1.+0.j] (1+0j)\n",
            "[1.+0.j 1.+0.j] (1+0j)\n"
          ]
        },
        {
          "output_type": "error",
          "ename": "TypeError",
          "evalue": "ufunc 'ceil' not supported for the input types, and the inputs could not be safely coerced to any supported types according to the casting rule ''safe''",
          "traceback": [
            "\u001b[0;31m---------------------------------------------------------------------------\u001b[0m",
            "\u001b[0;31mTypeError\u001b[0m                                 Traceback (most recent call last)",
            "\u001b[0;32m<ipython-input-17-cce6287a69dd>\u001b[0m in \u001b[0;36m<cell line: 3>\u001b[0;34m()\u001b[0m\n\u001b[1;32m      1\u001b[0m \u001b[0mpol\u001b[0m \u001b[0;34m=\u001b[0m \u001b[0mnp\u001b[0m\u001b[0;34m.\u001b[0m\u001b[0marray\u001b[0m\u001b[0;34m(\u001b[0m\u001b[0;34m[\u001b[0m\u001b[0;36m1.0\u001b[0m\u001b[0;34m,\u001b[0m \u001b[0;34m-\u001b[0m\u001b[0;36m5.0\u001b[0m\u001b[0;34m,\u001b[0m \u001b[0;36m8.0\u001b[0m\u001b[0;34m,\u001b[0m \u001b[0;34m-\u001b[0m\u001b[0;36m4.0\u001b[0m\u001b[0;34m]\u001b[0m\u001b[0;34m)\u001b[0m\u001b[0;34m\u001b[0m\u001b[0;34m\u001b[0m\u001b[0m\n\u001b[1;32m      2\u001b[0m \u001b[0mroots\u001b[0m \u001b[0;34m=\u001b[0m \u001b[0;34m[\u001b[0m\u001b[0;34m]\u001b[0m\u001b[0;34m\u001b[0m\u001b[0;34m\u001b[0m\u001b[0m\n\u001b[0;32m----> 3\u001b[0;31m \u001b[0mres\u001b[0m \u001b[0;34m=\u001b[0m \u001b[0mspa\u001b[0m\u001b[0;34m(\u001b[0m\u001b[0mpol\u001b[0m\u001b[0;34m,\u001b[0m \u001b[0mroots\u001b[0m\u001b[0;34m)\u001b[0m\u001b[0;34m\u001b[0m\u001b[0;34m\u001b[0m\u001b[0m\n\u001b[0m\u001b[1;32m      4\u001b[0m \u001b[0mprint\u001b[0m\u001b[0;34m(\u001b[0m\u001b[0;34m'res'\u001b[0m\u001b[0;34m,\u001b[0m \u001b[0mres\u001b[0m\u001b[0;34m)\u001b[0m\u001b[0;34m\u001b[0m\u001b[0;34m\u001b[0m\u001b[0m\n",
            "\u001b[0;32m<ipython-input-16-9d8caa44f121>\u001b[0m in \u001b[0;36mspa\u001b[0;34m(poly, rootlist)\u001b[0m\n\u001b[1;32m     71\u001b[0m       \u001b[0mprint\u001b[0m\u001b[0;34m(\u001b[0m\u001b[0;34m'TO DO run'\u001b[0m\u001b[0;34m)\u001b[0m\u001b[0;34m\u001b[0m\u001b[0;34m\u001b[0m\u001b[0m\n\u001b[1;32m     72\u001b[0m       \u001b[0mprint\u001b[0m\u001b[0;34m(\u001b[0m\u001b[0;34m'run tp'\u001b[0m\u001b[0;34m,\u001b[0m \u001b[0mtp\u001b[0m\u001b[0;34m)\u001b[0m\u001b[0;34m\u001b[0m\u001b[0;34m\u001b[0m\u001b[0m\n\u001b[0;32m---> 73\u001b[0;31m       \u001b[0mrootlist\u001b[0m\u001b[0;34m,\u001b[0m \u001b[0mtdeg\u001b[0m\u001b[0;34m,\u001b[0m \u001b[0mflag_fin\u001b[0m\u001b[0;34m,\u001b[0m \u001b[0mflag_lag\u001b[0m \u001b[0;34m=\u001b[0m  \u001b[0mrun\u001b[0m\u001b[0;34m(\u001b[0m\u001b[0mcosa\u001b[0m\u001b[0;34m,\u001b[0m \u001b[0mads\u001b[0m\u001b[0;34m,\u001b[0m \u001b[0mnoco\u001b[0m\u001b[0;34m,\u001b[0m \u001b[0mbz\u001b[0m\u001b[0;34m,\u001b[0m \u001b[0mbzre\u001b[0m\u001b[0;34m,\u001b[0m \u001b[0mtp\u001b[0m\u001b[0;34m,\u001b[0m \u001b[0mtp1\u001b[0m\u001b[0;34m,\u001b[0m \u001b[0mtdeg\u001b[0m\u001b[0;34m,\u001b[0m \u001b[0mrootlist\u001b[0m\u001b[0;34m,\u001b[0m \u001b[0mstepfactor\u001b[0m\u001b[0;34m,\u001b[0m \u001b[0mstepmin\u001b[0m\u001b[0;34m,\u001b[0m \u001b[0mflag_fin\u001b[0m \u001b[0;34m,\u001b[0m\u001b[0mflag_once1\u001b[0m\u001b[0;34m)\u001b[0m\u001b[0;34m\u001b[0m\u001b[0;34m\u001b[0m\u001b[0m\n\u001b[0m\u001b[1;32m     74\u001b[0m       \u001b[0mprint\u001b[0m\u001b[0;34m(\u001b[0m\u001b[0;34m'rootlist'\u001b[0m\u001b[0;34m,\u001b[0m \u001b[0mrootlist\u001b[0m\u001b[0;34m)\u001b[0m\u001b[0;34m\u001b[0m\u001b[0;34m\u001b[0m\u001b[0m\n\u001b[1;32m     75\u001b[0m       \u001b[0mprint\u001b[0m\u001b[0;34m(\u001b[0m\u001b[0;34m'tdeg'\u001b[0m\u001b[0;34m,\u001b[0m \u001b[0mtdeg\u001b[0m\u001b[0;34m)\u001b[0m\u001b[0;34m\u001b[0m\u001b[0;34m\u001b[0m\u001b[0m\n",
            "\u001b[0;32m<ipython-input-15-721c78c74c16>\u001b[0m in \u001b[0;36mrun\u001b[0;34m(cosa, ads, noco, bz, bzre, tp, tp1, tdeg, rootlist, stepfactor, stepmin, flag_fin, flag_once1)\u001b[0m\n\u001b[1;32m     28\u001b[0m       \u001b[0mprint\u001b[0m\u001b[0;34m(\u001b[0m\u001b[0;34m'TO DO minima'\u001b[0m\u001b[0;34m)\u001b[0m\u001b[0;34m\u001b[0m\u001b[0;34m\u001b[0m\u001b[0m\n\u001b[1;32m     29\u001b[0m       \u001b[0mprint\u001b[0m\u001b[0;34m(\u001b[0m\u001b[0mrad\u001b[0m\u001b[0;34m)\u001b[0m\u001b[0;34m\u001b[0m\u001b[0;34m\u001b[0m\u001b[0m\n\u001b[0;32m---> 30\u001b[0;31m       \u001b[0mres1\u001b[0m \u001b[0;34m=\u001b[0m \u001b[0mminima\u001b[0m\u001b[0;34m(\u001b[0m\u001b[0mcosa\u001b[0m\u001b[0;34m,\u001b[0m \u001b[0mads\u001b[0m\u001b[0;34m,\u001b[0m \u001b[0mnoco\u001b[0m\u001b[0;34m,\u001b[0m \u001b[0mrad\u001b[0m\u001b[0;34m,\u001b[0m \u001b[0mtdeg\u001b[0m\u001b[0;34m,\u001b[0m \u001b[0mtca\u001b[0m\u001b[0;34m)\u001b[0m\u001b[0;34m\u001b[0m\u001b[0;34m\u001b[0m\u001b[0m\n\u001b[0m",
            "\u001b[0;32m<ipython-input-8-d306b9b629f5>\u001b[0m in \u001b[0;36mminima\u001b[0;34m(cosa, ads, noco, rad, tdeg, tca)\u001b[0m\n\u001b[1;32m     15\u001b[0m     \u001b[0mpka\u001b[0m\u001b[0;34m[\u001b[0m\u001b[0mk\u001b[0m\u001b[0;34m]\u001b[0m \u001b[0;34m=\u001b[0m \u001b[0mk\u001b[0m\u001b[0;34m*\u001b[0m\u001b[0mph\u001b[0m\u001b[0;34m.\u001b[0m\u001b[0mreal\u001b[0m\u001b[0;34m\u001b[0m\u001b[0;34m\u001b[0m\u001b[0m\n\u001b[1;32m     16\u001b[0m     \u001b[0mqka\u001b[0m \u001b[0;34m=\u001b[0m \u001b[0mk\u001b[0m\u001b[0;34m*\u001b[0m\u001b[0mph\u001b[0m\u001b[0;34m.\u001b[0m\u001b[0mimag\u001b[0m\u001b[0;34m\u001b[0m\u001b[0;34m\u001b[0m\u001b[0m\n\u001b[0;32m---> 17\u001b[0;31m   \u001b[0msubex\u001b[0m \u001b[0;34m=\u001b[0m \u001b[0mmax\u001b[0m\u001b[0;34m(\u001b[0m\u001b[0;36m5\u001b[0m\u001b[0;34m,\u001b[0m \u001b[0mnp\u001b[0m\u001b[0;34m.\u001b[0m\u001b[0mceil\u001b[0m\u001b[0;34m(\u001b[0m\u001b[0mnp\u001b[0m\u001b[0;34m.\u001b[0m\u001b[0mlog2\u001b[0m\u001b[0;34m(\u001b[0m\u001b[0;36m10.0\u001b[0m \u001b[0;34m*\u001b[0m \u001b[0mrad\u001b[0m \u001b[0;34m*\u001b[0m \u001b[0mnp\u001b[0m\u001b[0;34m.\u001b[0m\u001b[0msqrt\u001b[0m\u001b[0;34m(\u001b[0m\u001b[0mtdeg\u001b[0m\u001b[0;34m)\u001b[0m\u001b[0;34m)\u001b[0m\u001b[0;34m)\u001b[0m\u001b[0;34m)\u001b[0m \u001b[0;34m+\u001b[0m \u001b[0mads\u001b[0m\u001b[0;34m\u001b[0m\u001b[0;34m\u001b[0m\u001b[0m\n\u001b[0m\u001b[1;32m     18\u001b[0m   \u001b[0msubdiv\u001b[0m \u001b[0;34m=\u001b[0m \u001b[0;36m3\u001b[0m\u001b[0;34m*\u001b[0m\u001b[0mnp\u001b[0m\u001b[0;34m.\u001b[0m\u001b[0mpower\u001b[0m\u001b[0;34m(\u001b[0m\u001b[0;36m2\u001b[0m\u001b[0;34m,\u001b[0m \u001b[0msubex\u001b[0m\u001b[0;34m)\u001b[0m\u001b[0;34m\u001b[0m\u001b[0;34m\u001b[0m\u001b[0m\n\u001b[1;32m     19\u001b[0m   \u001b[0md3\u001b[0m \u001b[0;34m=\u001b[0m \u001b[0;36m3\u001b[0m \u001b[0;34m*\u001b[0m \u001b[0;34m(\u001b[0m\u001b[0msubdiv\u001b[0m \u001b[0;34m//\u001b[0m \u001b[0;36m4\u001b[0m\u001b[0;34m)\u001b[0m  \u001b[0;31m# iquo в Maple это целочисленное деление в Python\u001b[0m\u001b[0;34m\u001b[0m\u001b[0;34m\u001b[0m\u001b[0m\n",
            "\u001b[0;31mTypeError\u001b[0m: ufunc 'ceil' not supported for the input types, and the inputs could not be safely coerced to any supported types according to the casting rule ''safe''"
          ]
        }
      ]
    },
    {
      "cell_type": "code",
      "source": [
        "from sympy import symbols, diff, gcd\n",
        "\n",
        "# Определяем переменную\n",
        "z = symbols('z')\n",
        "\n",
        "# Допустим, rp - это ваше выражение\n",
        "rp = z**2 + 2*z + 1  # Пример выражения\n",
        "\n",
        "# Вычисляем производную rp по z\n",
        "dp = diff(rp, z)\n",
        "\n",
        "print(rp/dp)\n",
        "\n",
        "# Вычисляем НОД между rp и dp\n",
        "gp = gcd(rp, dp)\n",
        "print(f\"Функция: {rp}\")\n",
        "print(f\"Производная: {dp}\")\n",
        "print(f\"НОД: {gp}\")"
      ],
      "metadata": {
        "id": "2xyZor_n7dIO"
      },
      "execution_count": null,
      "outputs": []
    },
    {
      "cell_type": "code",
      "source": [
        "# Define your polynomials as sequences of coefficients\n",
        "p = [1, -4, 5, -2]\n",
        "q = [3, -8, 5, 0]\n",
        "\n",
        "\n",
        "# Divide p by q\n",
        "quotient, remainder = P.polydiv(p, q)\n",
        "\n",
        "print('Quotient:', quotient)\n",
        "print('Remainder:', remainder)"
      ],
      "metadata": {
        "id": "8BIX8XQD-yWG"
      },
      "execution_count": null,
      "outputs": []
    },
    {
      "cell_type": "code",
      "source": [
        "test = [1.0]\n",
        "print(np.polyder(test))"
      ],
      "metadata": {
        "id": "8JtFIkiNXchu"
      },
      "execution_count": null,
      "outputs": []
    },
    {
      "cell_type": "code",
      "source": [
        "print([i for i in range(84)])"
      ],
      "metadata": {
        "id": "_tR-JvKK96H9"
      },
      "execution_count": null,
      "outputs": []
    },
    {
      "cell_type": "code",
      "source": [
        "myList = [0.0, 0.0, 0.0, 2.0, 2.0]\n",
        "first_non_zero = next((i for i, x in enumerate(myList) if x), None)\n",
        "print(first_non_zero)"
      ],
      "metadata": {
        "id": "-KjDXm1HFUlA"
      },
      "execution_count": null,
      "outputs": []
    }
  ]
}